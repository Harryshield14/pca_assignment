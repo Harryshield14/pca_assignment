{
  "cells": [
    {
      "cell_type": "markdown",
      "metadata": {
        "id": "UFiT2aK5_xx7"
      },
      "source": [
        "## PCA and Text Analysis\n",
        "\n",
        "This assignment involves processing real e-mails, some of which are scams.\n",
        "\n",
        "Fair warning: Some of these scam e-mails have offensive content. If you start reading the e-mail text or the token data, you might read something offensive. If that's a problem, feel free to e-mail me, and we can talk about it and discuss how to proceed with alternative tasks."
      ]
    },
    {
      "cell_type": "markdown",
      "metadata": {
        "id": "WUQCmIrH_xx8"
      },
      "source": [
        "### Q1.\n",
        "\n",
        "**Tokens**: The individual words or symbols that create text data like emails. Natural Language Processing is primarily about analyzing the frequency and co-occurrence of tokens.\n",
        "\n",
        "I aggregated all the emails into a single vector, and removed the punctuation and very common words (e.g. \"the\"). Run the below code chunk to open it, and use the Counter class to look at the most common words:"
      ]
    },
    {
      "cell_type": "code",
      "source": [
        "from google.colab import drive\n",
        "drive.mount('/content/drive')"
      ],
      "metadata": {
        "id": "XLfZ5XP7_3Zz",
        "outputId": "169cb4c0-07cf-43ac-d772-25073e11cfdf",
        "colab": {
          "base_uri": "https://localhost:8080/"
        }
      },
      "execution_count": 2,
      "outputs": [
        {
          "output_type": "stream",
          "name": "stdout",
          "text": [
            "Mounted at /content/drive\n"
          ]
        }
      ]
    },
    {
      "cell_type": "code",
      "execution_count": 3,
      "metadata": {
        "id": "gyXZgWKN_xx8"
      },
      "outputs": [],
      "source": [
        "import pickle\n",
        "with open('/content/drive/MyDrive/DS 3001/All Tokens.pickle', 'rb') as file:\n",
        "    all_tokens = pickle.load(file)\n",
        "\n",
        "from collections import Counter\n",
        "token_count = Counter(all_tokens)\n",
        "token_freq = token_count.most_common()"
      ]
    },
    {
      "cell_type": "markdown",
      "metadata": {
        "id": "nAFVVuMK_xx8"
      },
      "source": [
        "Plot a histogram of the occurrences of tokens.\n",
        "\n",
        "What do you notice about the frequency of occurrence of different tokens? How does it look?"
      ]
    },
    {
      "cell_type": "code",
      "execution_count": 9,
      "metadata": {
        "id": "PnHK9M_h_xx8",
        "outputId": "61d4526c-1b41-4456-b4fc-18137dd18d7f",
        "colab": {
          "base_uri": "https://localhost:8080/",
          "height": 472
        }
      },
      "outputs": [
        {
          "output_type": "display_data",
          "data": {
            "text/plain": [
              "<Figure size 640x480 with 1 Axes>"
            ],
            "image/png": "[encoded data removed]"
          },
          "metadata": {}
        }
      ],
      "source": [
        "import matplotlib.pyplot as plt\n",
        "\n",
        "counts = [count for token, count in token_freq]\n",
        "\n",
        "plt.hist(counts, bins=50, color='skyblue', edgecolor='black')\n",
        "plt.xlabel('Token Frequency')\n",
        "plt.ylabel('Number of Tokens')\n",
        "plt.title('Histogram of Token Occurrences')\n",
        "plt.xlim(0, 250)\n",
        "plt.ylim(0, 50000)\n",
        "plt.show()"
      ]
    },
    {
      "cell_type": "markdown",
      "source": [
        "What Do I Notice?\n",
        "\n"
      ],
      "metadata": {
        "id": "Yf1k1-sgBTC-"
      }
    },
    {
      "cell_type": "markdown",
      "metadata": {
        "id": "fZizo7g1_xx8"
      },
      "source": [
        "### Q2.\n",
        "\n",
        "Load `Phishing_clean.parquet`. This is the text from the e-mails broken into the most common 2,711 tokens and one-hot-encoded as features/covariates. So each row is an e-mail, the `Email Type` takes the value 1 if it's a scam and 0 otherwise, and every other column is a word or symbol that occurs in at least 15 e-mails.\n",
        "\n",
        "1. Perform an 80/20 train-test split of the data.\n",
        "2. Run a regression of $y$ on the one-hot-encoded emails. What is the $R^2$ on the test set? On the training set?\n",
        "3. What words have the largest coefficients in absolute value and most strongly influence predictions?"
      ]
    },
    {
      "cell_type": "code",
      "execution_count": 16,
      "metadata": {
        "id": "vEdoml-q_xx8",
        "outputId": "f4748d1d-2f5c-47e6-c646-688a53a1315a",
        "colab": {
          "base_uri": "https://localhost:8080/"
        }
      },
      "outputs": [
        {
          "output_type": "stream",
          "name": "stdout",
          "text": [
            "R² on training set: 0.8602487859919794\n",
            "R² on test set: 0.7532569778323317\n"
          ]
        }
      ],
      "source": [
        "import pandas as pd\n",
        "import numpy as np\n",
        "import matplotlib.pyplot as plt\n",
        "from sklearn.model_selection import train_test_split\n",
        "from sklearn.linear_model import LogisticRegression\n",
        "from sklearn.metrics import r2_score\n",
        "\n",
        "Phishing = pd.read_parquet('/content/drive/MyDrive/DS 3001/Phishing Data.parquet')\n",
        "\n",
        "X = Phishing.drop(columns=['Email Type'])\n",
        "y = Phishing['Email Type']\n",
        "\n",
        "X_train, X_test, y_train, y_test = train_test_split(X, y, test_size=0.2, random_state=42)\n",
        "\n",
        "model = LogisticRegression(max_iter=1000, solver='liblinear')\n",
        "model.fit(X_train, y_train)\n",
        "\n",
        "y_train_pred = model.predict(X_train)\n",
        "y_test_pred = model.predict(X_test)\n",
        "\n",
        "r2_train = r2_score(y_train, y_train_pred)\n",
        "r2_test = r2_score(y_test, y_test_pred)\n",
        "\n",
        "print(\"R² on training set:\", r2_train)\n",
        "print(\"R² on test set:\", r2_test)\n"
      ]
    },
    {
      "cell_type": "code",
      "source": [
        "coef_df = pd.DataFrame({\n",
        "    'token': X.columns,\n",
        "    'coefficient': model.coef_[0]\n",
        "})\n",
        "\n",
        "coef_df['abs_value'] = coef_df['coefficient'].abs()\n",
        "\n",
        "top_coef = coef_df.sort_values(by='abs_value', ascending=False)\n",
        "\n",
        "print(top_coef.head(20))"
      ],
      "metadata": {
        "id": "Dy6d9q-mY_pW",
        "outputId": "d2cff2d4-31bf-418e-8627-84c761198835",
        "colab": {
          "base_uri": "https://localhost:8080/"
        }
      },
      "execution_count": 18,
      "outputs": [
        {
          "output_type": "stream",
          "name": "stdout",
          "text": [
            "         token  coefficient  abs_value\n",
            "4        enron    -4.317310   4.317310\n",
            "16        url:    -4.157278   4.157278\n",
            "35       vince    -3.103588   3.103588\n",
            "22      wrote:    -3.100601   3.100601\n",
            "88      louise    -2.969376   2.969376\n",
            "168  forwarded    -2.575830   2.575830\n",
            "25    language    -2.524701   2.524701\n",
            "103      wrote    -2.493791   2.493791\n",
            "205      daren    -2.396262   2.396262\n",
            "818       cnet    -2.285395   2.285395\n",
            "192   mortgage     2.210906   2.210906\n",
            "102    wrote:>    -2.172880   2.172880\n",
            "30    attached    -2.150001   2.150001\n",
            "44       click     2.106971   2.106971\n",
            "412        pro     2.104196   2.104196\n",
            "76         aug    -2.055126   2.055126\n",
            "369      seems    -1.998369   1.998369\n",
            "51      thanks    -1.989786   1.989786\n",
            "113  september    -1.946283   1.946283\n",
            "260       meds     1.907901   1.907901\n"
          ]
        }
      ]
    },
    {
      "cell_type": "markdown",
      "metadata": {
        "id": "Ur4PUkMK_xx8"
      },
      "source": [
        "### Q3.\n",
        "\n",
        "Take the matrix of one-hot-encoded tokens (the data, less the outcome variable, `Email Type`) and perform a principal components analysis decomposition with two components. Plot the first two principal components in a scatter plot, and hue the points by whether they are a phishing scam or not. Do you notice any patterns?"
      ]
    },
    {
      "cell_type": "code",
      "execution_count": null,
      "metadata": {
        "id": "NVSWw2eP_xx8"
      },
      "outputs": [],
      "source": []
    },
    {
      "cell_type": "markdown",
      "metadata": {
        "id": "jhXgj6gV_xx8"
      },
      "source": [
        "### Q4.\n",
        "\n",
        "Run a linear regression of $y$ on the first 2,610 principal components of $X$. What is the $R^2$ on the training and test sets? (I used cross validation to determine that 2,610 was approximately optimal, but not all 2,711 components.)\n",
        "\n",
        "How does this performance compare to the linear regression?"
      ]
    },
    {
      "cell_type": "code",
      "execution_count": null,
      "metadata": {
        "id": "CApJ2uPy_xx9"
      },
      "outputs": [],
      "source": []
    },
    {
      "cell_type": "markdown",
      "metadata": {
        "id": "gb-MIeSJ_xx9"
      },
      "source": [
        "### Q5.\n",
        "\n",
        "Explain briefly in your own words what the advantage is in using the principal components to run this high-dimensional regression, rather than the original data."
      ]
    },
    {
      "cell_type": "code",
      "execution_count": null,
      "metadata": {
        "id": "fwdS02O__xx9"
      },
      "outputs": [],
      "source": []
    }
  ],
  "metadata": {
    "kernelspec": {
      "display_name": "Python 3 (ipykernel)",
      "language": "python",
      "name": "python3"
    },
    "language_info": {
      "codemirror_mode": {
        "name": "ipython",
        "version": 3
      },
      "file_extension": ".py",
      "mimetype": "text/x-python",
      "name": "python",
      "nbconvert_exporter": "python",
      "pygments_lexer": "ipython3",
      "version": "3.10.18"
    },
    "colab": {
      "provenance": []
    }
  },
  "nbformat": 4,
  "nbformat_minor": 0
}